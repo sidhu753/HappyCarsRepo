{
 "cells": [
  {
   "cell_type": "code",
   "execution_count": 1,
   "id": "ed79dcff",
   "metadata": {},
   "outputs": [],
   "source": [
    "import pandas as pd\n",
    "import numpy as np\n",
    "import seaborn as sns\n",
    "import matplotlib.pyplot as plt"
   ]
  },
  {
   "cell_type": "code",
   "execution_count": 3,
   "id": "ed4bf175",
   "metadata": {},
   "outputs": [
    {
     "data": {
      "text/html": [
       "<div>\n",
       "<style scoped>\n",
       "    .dataframe tbody tr th:only-of-type {\n",
       "        vertical-align: middle;\n",
       "    }\n",
       "\n",
       "    .dataframe tbody tr th {\n",
       "        vertical-align: top;\n",
       "    }\n",
       "\n",
       "    .dataframe thead th {\n",
       "        text-align: right;\n",
       "    }\n",
       "</style>\n",
       "<table border=\"1\" class=\"dataframe\">\n",
       "  <thead>\n",
       "    <tr style=\"text-align: right;\">\n",
       "      <th></th>\n",
       "      <th>CustomerID</th>\n",
       "      <th>FirstName</th>\n",
       "      <th>LastName</th>\n",
       "      <th>BirthDate</th>\n",
       "      <th>MaritalStatus</th>\n",
       "      <th>YearlyIncome</th>\n",
       "      <th>Gender</th>\n",
       "      <th>TotalChildren</th>\n",
       "      <th>NumberChildrenAtHome</th>\n",
       "      <th>Education</th>\n",
       "      <th>Occupation</th>\n",
       "      <th>HomeOwner</th>\n",
       "      <th>CommuteDistance</th>\n",
       "      <th>NumberOfPurchases</th>\n",
       "      <th>ProfitGenerated</th>\n",
       "    </tr>\n",
       "  </thead>\n",
       "  <tbody>\n",
       "    <tr>\n",
       "      <th>0</th>\n",
       "      <td>11004</td>\n",
       "      <td>Elizabeth</td>\n",
       "      <td>Johnson</td>\n",
       "      <td>08-08-1968 00:00</td>\n",
       "      <td>S</td>\n",
       "      <td>75001-100000</td>\n",
       "      <td>F</td>\n",
       "      <td>5</td>\n",
       "      <td>5</td>\n",
       "      <td>Bachelors</td>\n",
       "      <td>Professional</td>\n",
       "      <td>True</td>\n",
       "      <td>1-2 Miles</td>\n",
       "      <td>5</td>\n",
       "      <td>10351.6657</td>\n",
       "    </tr>\n",
       "    <tr>\n",
       "      <th>1</th>\n",
       "      <td>11006</td>\n",
       "      <td>Janet</td>\n",
       "      <td>Alvarez</td>\n",
       "      <td>06-12-1965 00:00</td>\n",
       "      <td>S</td>\n",
       "      <td>50001-75000</td>\n",
       "      <td>F</td>\n",
       "      <td>0</td>\n",
       "      <td>0</td>\n",
       "      <td>Bachelors</td>\n",
       "      <td>Professional</td>\n",
       "      <td>True</td>\n",
       "      <td>5-10 Miles</td>\n",
       "      <td>1</td>\n",
       "      <td>25636.9867</td>\n",
       "    </tr>\n",
       "    <tr>\n",
       "      <th>2</th>\n",
       "      <td>11007</td>\n",
       "      <td>Marco</td>\n",
       "      <td>Mehta</td>\n",
       "      <td>09-05-1964 00:00</td>\n",
       "      <td>M</td>\n",
       "      <td>50001-75000</td>\n",
       "      <td>M</td>\n",
       "      <td>3</td>\n",
       "      <td>3</td>\n",
       "      <td>Bachelors</td>\n",
       "      <td>Professional</td>\n",
       "      <td>True</td>\n",
       "      <td>0-1 Miles</td>\n",
       "      <td>2</td>\n",
       "      <td>9221.5725</td>\n",
       "    </tr>\n",
       "    <tr>\n",
       "      <th>3</th>\n",
       "      <td>11008</td>\n",
       "      <td>Rob</td>\n",
       "      <td>Verhoff</td>\n",
       "      <td>07-07-1964 00:00</td>\n",
       "      <td>S</td>\n",
       "      <td>50001-75000</td>\n",
       "      <td>F</td>\n",
       "      <td>4</td>\n",
       "      <td>4</td>\n",
       "      <td>Bachelors</td>\n",
       "      <td>Professional</td>\n",
       "      <td>True</td>\n",
       "      <td>10+ Miles</td>\n",
       "      <td>3</td>\n",
       "      <td>16556.0652</td>\n",
       "    </tr>\n",
       "    <tr>\n",
       "      <th>4</th>\n",
       "      <td>11009</td>\n",
       "      <td>Shannon</td>\n",
       "      <td>Carlson</td>\n",
       "      <td>01-04-1964 00:00</td>\n",
       "      <td>S</td>\n",
       "      <td>50001-75000</td>\n",
       "      <td>M</td>\n",
       "      <td>0</td>\n",
       "      <td>0</td>\n",
       "      <td>Bachelors</td>\n",
       "      <td>Professional</td>\n",
       "      <td>False</td>\n",
       "      <td>5-10 Miles</td>\n",
       "      <td>1</td>\n",
       "      <td>27955.7062</td>\n",
       "    </tr>\n",
       "  </tbody>\n",
       "</table>\n",
       "</div>"
      ],
      "text/plain": [
       "   CustomerID  FirstName LastName         BirthDate MaritalStatus  \\\n",
       "0       11004  Elizabeth  Johnson  08-08-1968 00:00             S   \n",
       "1       11006      Janet  Alvarez  06-12-1965 00:00             S   \n",
       "2       11007      Marco    Mehta  09-05-1964 00:00             M   \n",
       "3       11008        Rob  Verhoff  07-07-1964 00:00             S   \n",
       "4       11009    Shannon  Carlson  01-04-1964 00:00             S   \n",
       "\n",
       "   YearlyIncome Gender  TotalChildren  NumberChildrenAtHome   Education  \\\n",
       "0  75001-100000      F              5                     5  Bachelors    \n",
       "1   50001-75000      F              0                     0  Bachelors    \n",
       "2   50001-75000      M              3                     3  Bachelors    \n",
       "3   50001-75000      F              4                     4  Bachelors    \n",
       "4   50001-75000      M              0                     0  Bachelors    \n",
       "\n",
       "     Occupation  HomeOwner CommuteDistance  NumberOfPurchases  ProfitGenerated  \n",
       "0  Professional       True       1-2 Miles                  5       10351.6657  \n",
       "1  Professional       True      5-10 Miles                  1       25636.9867  \n",
       "2  Professional       True       0-1 Miles                  2        9221.5725  \n",
       "3  Professional       True       10+ Miles                  3       16556.0652  \n",
       "4  Professional      False      5-10 Miles                  1       27955.7062  "
      ]
     },
     "execution_count": 3,
     "metadata": {},
     "output_type": "execute_result"
    }
   ],
   "source": [
    "df = pd.read_csv(r'C:\\Users\\sidharth\\Desktop\\happycars\\Customers.csv')\n",
    "df.head()"
   ]
  },
  {
   "cell_type": "code",
   "execution_count": 4,
   "id": "e0ac3e8b",
   "metadata": {},
   "outputs": [
    {
     "data": {
      "text/html": [
       "<div>\n",
       "<style scoped>\n",
       "    .dataframe tbody tr th:only-of-type {\n",
       "        vertical-align: middle;\n",
       "    }\n",
       "\n",
       "    .dataframe tbody tr th {\n",
       "        vertical-align: top;\n",
       "    }\n",
       "\n",
       "    .dataframe thead th {\n",
       "        text-align: right;\n",
       "    }\n",
       "</style>\n",
       "<table border=\"1\" class=\"dataframe\">\n",
       "  <thead>\n",
       "    <tr style=\"text-align: right;\">\n",
       "      <th></th>\n",
       "      <th>BirthDate</th>\n",
       "      <th>MaritalStatus</th>\n",
       "      <th>YearlyIncome</th>\n",
       "      <th>Gender</th>\n",
       "      <th>TotalChildren</th>\n",
       "      <th>NumberChildrenAtHome</th>\n",
       "      <th>Education</th>\n",
       "      <th>Occupation</th>\n",
       "      <th>HomeOwner</th>\n",
       "      <th>CommuteDistance</th>\n",
       "      <th>NumberOfPurchases</th>\n",
       "      <th>ProfitGenerated</th>\n",
       "    </tr>\n",
       "  </thead>\n",
       "  <tbody>\n",
       "    <tr>\n",
       "      <th>0</th>\n",
       "      <td>08-08-1968 00:00</td>\n",
       "      <td>S</td>\n",
       "      <td>75001-100000</td>\n",
       "      <td>F</td>\n",
       "      <td>5</td>\n",
       "      <td>5</td>\n",
       "      <td>Bachelors</td>\n",
       "      <td>Professional</td>\n",
       "      <td>True</td>\n",
       "      <td>1-2 Miles</td>\n",
       "      <td>5</td>\n",
       "      <td>10351.6657</td>\n",
       "    </tr>\n",
       "    <tr>\n",
       "      <th>1</th>\n",
       "      <td>06-12-1965 00:00</td>\n",
       "      <td>S</td>\n",
       "      <td>50001-75000</td>\n",
       "      <td>F</td>\n",
       "      <td>0</td>\n",
       "      <td>0</td>\n",
       "      <td>Bachelors</td>\n",
       "      <td>Professional</td>\n",
       "      <td>True</td>\n",
       "      <td>5-10 Miles</td>\n",
       "      <td>1</td>\n",
       "      <td>25636.9867</td>\n",
       "    </tr>\n",
       "    <tr>\n",
       "      <th>2</th>\n",
       "      <td>09-05-1964 00:00</td>\n",
       "      <td>M</td>\n",
       "      <td>50001-75000</td>\n",
       "      <td>M</td>\n",
       "      <td>3</td>\n",
       "      <td>3</td>\n",
       "      <td>Bachelors</td>\n",
       "      <td>Professional</td>\n",
       "      <td>True</td>\n",
       "      <td>0-1 Miles</td>\n",
       "      <td>2</td>\n",
       "      <td>9221.5725</td>\n",
       "    </tr>\n",
       "    <tr>\n",
       "      <th>3</th>\n",
       "      <td>07-07-1964 00:00</td>\n",
       "      <td>S</td>\n",
       "      <td>50001-75000</td>\n",
       "      <td>F</td>\n",
       "      <td>4</td>\n",
       "      <td>4</td>\n",
       "      <td>Bachelors</td>\n",
       "      <td>Professional</td>\n",
       "      <td>True</td>\n",
       "      <td>10+ Miles</td>\n",
       "      <td>3</td>\n",
       "      <td>16556.0652</td>\n",
       "    </tr>\n",
       "    <tr>\n",
       "      <th>4</th>\n",
       "      <td>01-04-1964 00:00</td>\n",
       "      <td>S</td>\n",
       "      <td>50001-75000</td>\n",
       "      <td>M</td>\n",
       "      <td>0</td>\n",
       "      <td>0</td>\n",
       "      <td>Bachelors</td>\n",
       "      <td>Professional</td>\n",
       "      <td>False</td>\n",
       "      <td>5-10 Miles</td>\n",
       "      <td>1</td>\n",
       "      <td>27955.7062</td>\n",
       "    </tr>\n",
       "  </tbody>\n",
       "</table>\n",
       "</div>"
      ],
      "text/plain": [
       "          BirthDate MaritalStatus  YearlyIncome Gender  TotalChildren  \\\n",
       "0  08-08-1968 00:00             S  75001-100000      F              5   \n",
       "1  06-12-1965 00:00             S   50001-75000      F              0   \n",
       "2  09-05-1964 00:00             M   50001-75000      M              3   \n",
       "3  07-07-1964 00:00             S   50001-75000      F              4   \n",
       "4  01-04-1964 00:00             S   50001-75000      M              0   \n",
       "\n",
       "   NumberChildrenAtHome   Education    Occupation  HomeOwner CommuteDistance  \\\n",
       "0                     5  Bachelors   Professional       True       1-2 Miles   \n",
       "1                     0  Bachelors   Professional       True      5-10 Miles   \n",
       "2                     3  Bachelors   Professional       True       0-1 Miles   \n",
       "3                     4  Bachelors   Professional       True       10+ Miles   \n",
       "4                     0  Bachelors   Professional      False      5-10 Miles   \n",
       "\n",
       "   NumberOfPurchases  ProfitGenerated  \n",
       "0                  5       10351.6657  \n",
       "1                  1       25636.9867  \n",
       "2                  2        9221.5725  \n",
       "3                  3       16556.0652  \n",
       "4                  1       27955.7062  "
      ]
     },
     "execution_count": 4,
     "metadata": {},
     "output_type": "execute_result"
    }
   ],
   "source": [
    "df.drop(['CustomerID','FirstName','LastName'],'columns', inplace=True)\n",
    "\n",
    "df.head()"
   ]
  },
  {
   "cell_type": "code",
   "execution_count": 5,
   "id": "7d1f3bd2",
   "metadata": {},
   "outputs": [
    {
     "data": {
      "text/html": [
       "<div>\n",
       "<style scoped>\n",
       "    .dataframe tbody tr th:only-of-type {\n",
       "        vertical-align: middle;\n",
       "    }\n",
       "\n",
       "    .dataframe tbody tr th {\n",
       "        vertical-align: top;\n",
       "    }\n",
       "\n",
       "    .dataframe thead th {\n",
       "        text-align: right;\n",
       "    }\n",
       "</style>\n",
       "<table border=\"1\" class=\"dataframe\">\n",
       "  <thead>\n",
       "    <tr style=\"text-align: right;\">\n",
       "      <th></th>\n",
       "      <th>BirthDate</th>\n",
       "      <th>MaritalStatus</th>\n",
       "      <th>YearlyIncome</th>\n",
       "      <th>Gender</th>\n",
       "      <th>TotalChildren</th>\n",
       "      <th>NumberChildrenAtHome</th>\n",
       "      <th>Education</th>\n",
       "      <th>Occupation</th>\n",
       "      <th>HomeOwner</th>\n",
       "      <th>CommuteDistance</th>\n",
       "      <th>NumberOfPurchases</th>\n",
       "      <th>ProfitGenerated</th>\n",
       "    </tr>\n",
       "  </thead>\n",
       "  <tbody>\n",
       "    <tr>\n",
       "      <th>0</th>\n",
       "      <td>1968-08-08</td>\n",
       "      <td>S</td>\n",
       "      <td>75001-100000</td>\n",
       "      <td>F</td>\n",
       "      <td>5</td>\n",
       "      <td>5</td>\n",
       "      <td>Bachelors</td>\n",
       "      <td>Professional</td>\n",
       "      <td>True</td>\n",
       "      <td>1-2 Miles</td>\n",
       "      <td>5</td>\n",
       "      <td>10351.6657</td>\n",
       "    </tr>\n",
       "    <tr>\n",
       "      <th>1</th>\n",
       "      <td>1965-06-12</td>\n",
       "      <td>S</td>\n",
       "      <td>50001-75000</td>\n",
       "      <td>F</td>\n",
       "      <td>0</td>\n",
       "      <td>0</td>\n",
       "      <td>Bachelors</td>\n",
       "      <td>Professional</td>\n",
       "      <td>True</td>\n",
       "      <td>5-10 Miles</td>\n",
       "      <td>1</td>\n",
       "      <td>25636.9867</td>\n",
       "    </tr>\n",
       "    <tr>\n",
       "      <th>2</th>\n",
       "      <td>1964-09-05</td>\n",
       "      <td>M</td>\n",
       "      <td>50001-75000</td>\n",
       "      <td>M</td>\n",
       "      <td>3</td>\n",
       "      <td>3</td>\n",
       "      <td>Bachelors</td>\n",
       "      <td>Professional</td>\n",
       "      <td>True</td>\n",
       "      <td>0-1 Miles</td>\n",
       "      <td>2</td>\n",
       "      <td>9221.5725</td>\n",
       "    </tr>\n",
       "    <tr>\n",
       "      <th>3</th>\n",
       "      <td>1964-07-07</td>\n",
       "      <td>S</td>\n",
       "      <td>50001-75000</td>\n",
       "      <td>F</td>\n",
       "      <td>4</td>\n",
       "      <td>4</td>\n",
       "      <td>Bachelors</td>\n",
       "      <td>Professional</td>\n",
       "      <td>True</td>\n",
       "      <td>10+ Miles</td>\n",
       "      <td>3</td>\n",
       "      <td>16556.0652</td>\n",
       "    </tr>\n",
       "    <tr>\n",
       "      <th>4</th>\n",
       "      <td>1964-01-04</td>\n",
       "      <td>S</td>\n",
       "      <td>50001-75000</td>\n",
       "      <td>M</td>\n",
       "      <td>0</td>\n",
       "      <td>0</td>\n",
       "      <td>Bachelors</td>\n",
       "      <td>Professional</td>\n",
       "      <td>False</td>\n",
       "      <td>5-10 Miles</td>\n",
       "      <td>1</td>\n",
       "      <td>27955.7062</td>\n",
       "    </tr>\n",
       "    <tr>\n",
       "      <th>...</th>\n",
       "      <td>...</td>\n",
       "      <td>...</td>\n",
       "      <td>...</td>\n",
       "      <td>...</td>\n",
       "      <td>...</td>\n",
       "      <td>...</td>\n",
       "      <td>...</td>\n",
       "      <td>...</td>\n",
       "      <td>...</td>\n",
       "      <td>...</td>\n",
       "      <td>...</td>\n",
       "      <td>...</td>\n",
       "    </tr>\n",
       "    <tr>\n",
       "      <th>9995</th>\n",
       "      <td>1977-04-05</td>\n",
       "      <td>S</td>\n",
       "      <td>0-25000</td>\n",
       "      <td>M</td>\n",
       "      <td>0</td>\n",
       "      <td>0</td>\n",
       "      <td>High School</td>\n",
       "      <td>Manual</td>\n",
       "      <td>False</td>\n",
       "      <td>2-5 Miles</td>\n",
       "      <td>1</td>\n",
       "      <td>3260.0490</td>\n",
       "    </tr>\n",
       "    <tr>\n",
       "      <th>9996</th>\n",
       "      <td>1977-03-15</td>\n",
       "      <td>M</td>\n",
       "      <td>0-25000</td>\n",
       "      <td>M</td>\n",
       "      <td>0</td>\n",
       "      <td>0</td>\n",
       "      <td>High School</td>\n",
       "      <td>Manual</td>\n",
       "      <td>False</td>\n",
       "      <td>0-1 Miles</td>\n",
       "      <td>2</td>\n",
       "      <td>1966.8401</td>\n",
       "    </tr>\n",
       "    <tr>\n",
       "      <th>9997</th>\n",
       "      <td>1960-08-25</td>\n",
       "      <td>S</td>\n",
       "      <td>0-25000</td>\n",
       "      <td>M</td>\n",
       "      <td>1</td>\n",
       "      <td>1</td>\n",
       "      <td>High School</td>\n",
       "      <td>Manual</td>\n",
       "      <td>False</td>\n",
       "      <td>1-2 Miles</td>\n",
       "      <td>1</td>\n",
       "      <td>1934.2584</td>\n",
       "    </tr>\n",
       "    <tr>\n",
       "      <th>9998</th>\n",
       "      <td>1960-03-14</td>\n",
       "      <td>M</td>\n",
       "      <td>0-25000</td>\n",
       "      <td>F</td>\n",
       "      <td>1</td>\n",
       "      <td>1</td>\n",
       "      <td>High School</td>\n",
       "      <td>Manual</td>\n",
       "      <td>False</td>\n",
       "      <td>1-2 Miles</td>\n",
       "      <td>1</td>\n",
       "      <td>1154.3211</td>\n",
       "    </tr>\n",
       "    <tr>\n",
       "      <th>9999</th>\n",
       "      <td>1959-04-10</td>\n",
       "      <td>M</td>\n",
       "      <td>0-25000</td>\n",
       "      <td>M</td>\n",
       "      <td>2</td>\n",
       "      <td>0</td>\n",
       "      <td>Partial College</td>\n",
       "      <td>Manual</td>\n",
       "      <td>False</td>\n",
       "      <td>0-1 Miles</td>\n",
       "      <td>1</td>\n",
       "      <td>1601.0582</td>\n",
       "    </tr>\n",
       "  </tbody>\n",
       "</table>\n",
       "<p>10000 rows × 12 columns</p>\n",
       "</div>"
      ],
      "text/plain": [
       "      BirthDate MaritalStatus  YearlyIncome Gender  TotalChildren  \\\n",
       "0    1968-08-08             S  75001-100000      F              5   \n",
       "1    1965-06-12             S   50001-75000      F              0   \n",
       "2    1964-09-05             M   50001-75000      M              3   \n",
       "3    1964-07-07             S   50001-75000      F              4   \n",
       "4    1964-01-04             S   50001-75000      M              0   \n",
       "...         ...           ...           ...    ...            ...   \n",
       "9995 1977-04-05             S       0-25000      M              0   \n",
       "9996 1977-03-15             M       0-25000      M              0   \n",
       "9997 1960-08-25             S       0-25000      M              1   \n",
       "9998 1960-03-14             M       0-25000      F              1   \n",
       "9999 1959-04-10             M       0-25000      M              2   \n",
       "\n",
       "      NumberChildrenAtHome        Education    Occupation  HomeOwner  \\\n",
       "0                        5       Bachelors   Professional       True   \n",
       "1                        0       Bachelors   Professional       True   \n",
       "2                        3       Bachelors   Professional       True   \n",
       "3                        4       Bachelors   Professional       True   \n",
       "4                        0       Bachelors   Professional      False   \n",
       "...                    ...              ...           ...        ...   \n",
       "9995                     0      High School        Manual      False   \n",
       "9996                     0      High School        Manual      False   \n",
       "9997                     1      High School        Manual      False   \n",
       "9998                     1      High School        Manual      False   \n",
       "9999                     0  Partial College        Manual      False   \n",
       "\n",
       "     CommuteDistance  NumberOfPurchases  ProfitGenerated  \n",
       "0          1-2 Miles                  5       10351.6657  \n",
       "1         5-10 Miles                  1       25636.9867  \n",
       "2          0-1 Miles                  2        9221.5725  \n",
       "3          10+ Miles                  3       16556.0652  \n",
       "4         5-10 Miles                  1       27955.7062  \n",
       "...              ...                ...              ...  \n",
       "9995       2-5 Miles                  1        3260.0490  \n",
       "9996       0-1 Miles                  2        1966.8401  \n",
       "9997       1-2 Miles                  1        1934.2584  \n",
       "9998       1-2 Miles                  1        1154.3211  \n",
       "9999       0-1 Miles                  1        1601.0582  \n",
       "\n",
       "[10000 rows x 12 columns]"
      ]
     },
     "execution_count": 5,
     "metadata": {},
     "output_type": "execute_result"
    }
   ],
   "source": [
    "df['BirthDate']=pd.to_datetime(df['BirthDate'])\n",
    "df"
   ]
  },
  {
   "cell_type": "code",
   "execution_count": 22,
   "id": "775a8f24",
   "metadata": {},
   "outputs": [
    {
     "data": {
      "text/plain": [
       "<seaborn.axisgrid.FacetGrid at 0x20a2d6387c0>"
      ]
     },
     "execution_count": 22,
     "metadata": {},
     "output_type": "execute_result"
    },
    {
     "data": {
      "text/plain": [
       "<Figure size 2000x800 with 0 Axes>"
      ]
     },
     "metadata": {},
     "output_type": "display_data"
    },
    {
     "data": {
      "image/png": "[encoded data removed]",
      "text/plain": [
       "<Figure size 360x360 with 1 Axes>"
      ]
     },
     "metadata": {
      "needs_background": "light"
     },
     "output_type": "display_data"
    }
   ],
   "source": [
    "plt.figure(figsize=(10,4),dpi=200)\n",
    "sns.displot(data=df,x='BirthDate',kde=True)"
   ]
  },
  {
   "cell_type": "code",
   "execution_count": 19,
   "id": "9819e355",
   "metadata": {},
   "outputs": [],
   "source": [
    "df['BirthDate']=pd.DatetimeIndex(df['BirthDate']).year"
   ]
  },
  {
   "cell_type": "code",
   "execution_count": 23,
   "id": "4a269922",
   "metadata": {},
   "outputs": [
    {
     "data": {
      "text/plain": [
       "0    1965\n",
       "dtype: int64"
      ]
     },
     "execution_count": 23,
     "metadata": {},
     "output_type": "execute_result"
    }
   ],
   "source": [
    "df['BirthDate'].mode()"
   ]
  },
  {
   "cell_type": "code",
   "execution_count": 7,
   "id": "9c6fd05a",
   "metadata": {},
   "outputs": [
    {
     "data": {
      "text/plain": [
       "<AxesSubplot:xlabel='Education', ylabel='Count'>"
      ]
     },
     "execution_count": 7,
     "metadata": {},
     "output_type": "execute_result"
    },
    {
     "data": {
      "image/png": "[encoded data removed]",
      "text/plain": [
       "<Figure size 2000x800 with 1 Axes>"
      ]
     },
     "metadata": {
      "needs_background": "light"
     },
     "output_type": "display_data"
    }
   ],
   "source": [
    "plt.figure(figsize=(10,4),dpi=200)\n",
    "sns.histplot(data=df,x='Education')"
   ]
  },
  {
   "cell_type": "code",
   "execution_count": 24,
   "id": "fb39253c",
   "metadata": {},
   "outputs": [
    {
     "data": {
      "text/plain": [
       "0    Partial College\n",
       "dtype: object"
      ]
     },
     "execution_count": 24,
     "metadata": {},
     "output_type": "execute_result"
    }
   ],
   "source": [
    "df['Education'].mode()"
   ]
  },
  {
   "cell_type": "code",
   "execution_count": 8,
   "id": "40a5d7fa",
   "metadata": {},
   "outputs": [
    {
     "data": {
      "text/plain": [
       "<AxesSubplot:xlabel='CommuteDistance', ylabel='Count'>"
      ]
     },
     "execution_count": 8,
     "metadata": {},
     "output_type": "execute_result"
    },
    {
     "data": {
      "image/png": "[encoded data removed]",
      "text/plain": [
       "<Figure size 2000x800 with 1 Axes>"
      ]
     },
     "metadata": {
      "needs_background": "light"
     },
     "output_type": "display_data"
    }
   ],
   "source": [
    "plt.figure(figsize=(10,4),dpi=200)\n",
    "sns.histplot(data=df,x='CommuteDistance')"
   ]
  },
  {
   "cell_type": "code",
   "execution_count": 25,
   "id": "d88bda7b",
   "metadata": {},
   "outputs": [
    {
     "data": {
      "text/plain": [
       "0    0-1 Miles\n",
       "dtype: object"
      ]
     },
     "execution_count": 25,
     "metadata": {},
     "output_type": "execute_result"
    }
   ],
   "source": [
    "df['CommuteDistance'].mode()"
   ]
  },
  {
   "cell_type": "code",
   "execution_count": null,
   "id": "7137db0d",
   "metadata": {},
   "outputs": [],
   "source": []
  }
 ],
 "metadata": {
  "kernelspec": {
   "display_name": "Python 3",
   "language": "python",
   "name": "python3"
  },
  "language_info": {
   "codemirror_mode": {
    "name": "ipython",
    "version": 3
   },
   "file_extension": ".py",
   "mimetype": "text/x-python",
   "name": "python",
   "nbconvert_exporter": "python",
   "pygments_lexer": "ipython3",
   "version": "3.8.8"
  }
 },
 "nbformat": 4,
 "nbformat_minor": 5
}
