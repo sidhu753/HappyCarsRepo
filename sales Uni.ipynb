{
 "cells": [
  {
   "cell_type": "code",
   "execution_count": 2,
   "metadata": {},
   "outputs": [],
   "source": [
    "import pandas as pd\n",
    "import numpy as np\n",
    "import seaborn as sns\n",
    "import matplotlib.pyplot as plt"
   ]
  },
  {
   "cell_type": "code",
   "execution_count": 3,
   "metadata": {},
   "outputs": [
    {
     "data": {
      "text/html": [
       "<div>\n",
       "<style scoped>\n",
       "    .dataframe tbody tr th:only-of-type {\n",
       "        vertical-align: middle;\n",
       "    }\n",
       "\n",
       "    .dataframe tbody tr th {\n",
       "        vertical-align: top;\n",
       "    }\n",
       "\n",
       "    .dataframe thead th {\n",
       "        text-align: right;\n",
       "    }\n",
       "</style>\n",
       "<table border=\"1\" class=\"dataframe\">\n",
       "  <thead>\n",
       "    <tr style=\"text-align: right;\">\n",
       "      <th></th>\n",
       "      <th>CustomerID</th>\n",
       "      <th>CarID</th>\n",
       "      <th>DateSold</th>\n",
       "      <th>SaleID</th>\n",
       "    </tr>\n",
       "  </thead>\n",
       "  <tbody>\n",
       "    <tr>\n",
       "      <th>0</th>\n",
       "      <td>11004</td>\n",
       "      <td>4</td>\n",
       "      <td>19-03-2006 00:00</td>\n",
       "      <td>1</td>\n",
       "    </tr>\n",
       "    <tr>\n",
       "      <th>1</th>\n",
       "      <td>11004</td>\n",
       "      <td>6</td>\n",
       "      <td>24-02-2004 00:00</td>\n",
       "      <td>2</td>\n",
       "    </tr>\n",
       "    <tr>\n",
       "      <th>2</th>\n",
       "      <td>11004</td>\n",
       "      <td>2</td>\n",
       "      <td>17-04-2004 00:00</td>\n",
       "      <td>3</td>\n",
       "    </tr>\n",
       "    <tr>\n",
       "      <th>3</th>\n",
       "      <td>11004</td>\n",
       "      <td>1</td>\n",
       "      <td>20-01-2003 00:00</td>\n",
       "      <td>4</td>\n",
       "    </tr>\n",
       "    <tr>\n",
       "      <th>4</th>\n",
       "      <td>11004</td>\n",
       "      <td>12</td>\n",
       "      <td>03-06-2005 00:00</td>\n",
       "      <td>5</td>\n",
       "    </tr>\n",
       "  </tbody>\n",
       "</table>\n",
       "</div>"
      ],
      "text/plain": [
       "   CustomerID  CarID          DateSold  SaleID\n",
       "0       11004      4  19-03-2006 00:00       1\n",
       "1       11004      6  24-02-2004 00:00       2\n",
       "2       11004      2  17-04-2004 00:00       3\n",
       "3       11004      1  20-01-2003 00:00       4\n",
       "4       11004     12  03-06-2005 00:00       5"
      ]
     },
     "execution_count": 3,
     "metadata": {},
     "output_type": "execute_result"
    }
   ],
   "source": [
    "data= pd.read_csv(r\"C:\\Users\\sidharth\\Desktop\\happycars\\Sales.csv\")\n",
    "data.head()"
   ]
  },
  {
   "cell_type": "code",
   "execution_count": 4,
   "metadata": {},
   "outputs": [
    {
     "data": {
      "text/html": [
       "<div>\n",
       "<style scoped>\n",
       "    .dataframe tbody tr th:only-of-type {\n",
       "        vertical-align: middle;\n",
       "    }\n",
       "\n",
       "    .dataframe tbody tr th {\n",
       "        vertical-align: top;\n",
       "    }\n",
       "\n",
       "    .dataframe thead th {\n",
       "        text-align: right;\n",
       "    }\n",
       "</style>\n",
       "<table border=\"1\" class=\"dataframe\">\n",
       "  <thead>\n",
       "    <tr style=\"text-align: right;\">\n",
       "      <th></th>\n",
       "      <th>count</th>\n",
       "      <th>mean</th>\n",
       "      <th>std</th>\n",
       "      <th>min</th>\n",
       "      <th>25%</th>\n",
       "      <th>50%</th>\n",
       "      <th>75%</th>\n",
       "      <th>max</th>\n",
       "    </tr>\n",
       "  </thead>\n",
       "  <tbody>\n",
       "    <tr>\n",
       "      <th>CustomerID</th>\n",
       "      <td>22513.0</td>\n",
       "      <td>20270.253276</td>\n",
       "      <td>5272.805011</td>\n",
       "      <td>11004.0</td>\n",
       "      <td>15762.0</td>\n",
       "      <td>20327.0</td>\n",
       "      <td>24825.0</td>\n",
       "      <td>29474.0</td>\n",
       "    </tr>\n",
       "    <tr>\n",
       "      <th>CarID</th>\n",
       "      <td>22513.0</td>\n",
       "      <td>6.010883</td>\n",
       "      <td>3.808133</td>\n",
       "      <td>1.0</td>\n",
       "      <td>3.0</td>\n",
       "      <td>5.0</td>\n",
       "      <td>8.0</td>\n",
       "      <td>16.0</td>\n",
       "    </tr>\n",
       "    <tr>\n",
       "      <th>SaleID</th>\n",
       "      <td>22513.0</td>\n",
       "      <td>11257.000000</td>\n",
       "      <td>6499.087641</td>\n",
       "      <td>1.0</td>\n",
       "      <td>5629.0</td>\n",
       "      <td>11257.0</td>\n",
       "      <td>16885.0</td>\n",
       "      <td>22513.0</td>\n",
       "    </tr>\n",
       "  </tbody>\n",
       "</table>\n",
       "</div>"
      ],
      "text/plain": [
       "              count          mean          std      min      25%      50%  \\\n",
       "CustomerID  22513.0  20270.253276  5272.805011  11004.0  15762.0  20327.0   \n",
       "CarID       22513.0      6.010883     3.808133      1.0      3.0      5.0   \n",
       "SaleID      22513.0  11257.000000  6499.087641      1.0   5629.0  11257.0   \n",
       "\n",
       "                75%      max  \n",
       "CustomerID  24825.0  29474.0  \n",
       "CarID           8.0     16.0  \n",
       "SaleID      16885.0  22513.0  "
      ]
     },
     "execution_count": 4,
     "metadata": {},
     "output_type": "execute_result"
    }
   ],
   "source": [
    "data.describe().transpose()"
   ]
  },
  {
   "cell_type": "code",
   "execution_count": 5,
   "metadata": {},
   "outputs": [
    {
     "data": {
      "text/plain": [
       "CustomerID    0\n",
       "CarID         0\n",
       "DateSold      0\n",
       "SaleID        0\n",
       "dtype: int64"
      ]
     },
     "execution_count": 5,
     "metadata": {},
     "output_type": "execute_result"
    }
   ],
   "source": [
    "data.isnull().sum()"
   ]
  },
  {
   "cell_type": "code",
   "execution_count": 6,
   "metadata": {},
   "outputs": [
    {
     "data": {
      "text/html": [
       "<div>\n",
       "<style scoped>\n",
       "    .dataframe tbody tr th:only-of-type {\n",
       "        vertical-align: middle;\n",
       "    }\n",
       "\n",
       "    .dataframe tbody tr th {\n",
       "        vertical-align: top;\n",
       "    }\n",
       "\n",
       "    .dataframe thead th {\n",
       "        text-align: right;\n",
       "    }\n",
       "</style>\n",
       "<table border=\"1\" class=\"dataframe\">\n",
       "  <thead>\n",
       "    <tr style=\"text-align: right;\">\n",
       "      <th></th>\n",
       "      <th>CustomerID</th>\n",
       "      <th>CarID</th>\n",
       "      <th>DateSold</th>\n",
       "      <th>SaleID</th>\n",
       "    </tr>\n",
       "  </thead>\n",
       "  <tbody>\n",
       "    <tr>\n",
       "      <th>0</th>\n",
       "      <td>11004</td>\n",
       "      <td>4</td>\n",
       "      <td>2006-03-19</td>\n",
       "      <td>1</td>\n",
       "    </tr>\n",
       "    <tr>\n",
       "      <th>1</th>\n",
       "      <td>11004</td>\n",
       "      <td>6</td>\n",
       "      <td>2004-02-24</td>\n",
       "      <td>2</td>\n",
       "    </tr>\n",
       "    <tr>\n",
       "      <th>2</th>\n",
       "      <td>11004</td>\n",
       "      <td>2</td>\n",
       "      <td>2004-04-17</td>\n",
       "      <td>3</td>\n",
       "    </tr>\n",
       "    <tr>\n",
       "      <th>3</th>\n",
       "      <td>11004</td>\n",
       "      <td>1</td>\n",
       "      <td>2003-01-20</td>\n",
       "      <td>4</td>\n",
       "    </tr>\n",
       "    <tr>\n",
       "      <th>4</th>\n",
       "      <td>11004</td>\n",
       "      <td>12</td>\n",
       "      <td>2005-03-06</td>\n",
       "      <td>5</td>\n",
       "    </tr>\n",
       "    <tr>\n",
       "      <th>...</th>\n",
       "      <td>...</td>\n",
       "      <td>...</td>\n",
       "      <td>...</td>\n",
       "      <td>...</td>\n",
       "    </tr>\n",
       "    <tr>\n",
       "      <th>22508</th>\n",
       "      <td>29460</td>\n",
       "      <td>7</td>\n",
       "      <td>2004-10-09</td>\n",
       "      <td>22509</td>\n",
       "    </tr>\n",
       "    <tr>\n",
       "      <th>22509</th>\n",
       "      <td>29460</td>\n",
       "      <td>4</td>\n",
       "      <td>2003-11-12</td>\n",
       "      <td>22510</td>\n",
       "    </tr>\n",
       "    <tr>\n",
       "      <th>22510</th>\n",
       "      <td>29470</td>\n",
       "      <td>7</td>\n",
       "      <td>2004-08-19</td>\n",
       "      <td>22511</td>\n",
       "    </tr>\n",
       "    <tr>\n",
       "      <th>22511</th>\n",
       "      <td>29472</td>\n",
       "      <td>5</td>\n",
       "      <td>2003-10-03</td>\n",
       "      <td>22512</td>\n",
       "    </tr>\n",
       "    <tr>\n",
       "      <th>22512</th>\n",
       "      <td>29474</td>\n",
       "      <td>3</td>\n",
       "      <td>2005-08-05</td>\n",
       "      <td>22513</td>\n",
       "    </tr>\n",
       "  </tbody>\n",
       "</table>\n",
       "<p>22513 rows × 4 columns</p>\n",
       "</div>"
      ],
      "text/plain": [
       "       CustomerID  CarID   DateSold  SaleID\n",
       "0           11004      4 2006-03-19       1\n",
       "1           11004      6 2004-02-24       2\n",
       "2           11004      2 2004-04-17       3\n",
       "3           11004      1 2003-01-20       4\n",
       "4           11004     12 2005-03-06       5\n",
       "...           ...    ...        ...     ...\n",
       "22508       29460      7 2004-10-09   22509\n",
       "22509       29460      4 2003-11-12   22510\n",
       "22510       29470      7 2004-08-19   22511\n",
       "22511       29472      5 2003-10-03   22512\n",
       "22512       29474      3 2005-08-05   22513\n",
       "\n",
       "[22513 rows x 4 columns]"
      ]
     },
     "execution_count": 6,
     "metadata": {},
     "output_type": "execute_result"
    }
   ],
   "source": [
    "data['DateSold']=pd.to_datetime(data['DateSold'])\n",
    "data"
   ]
  },
  {
   "cell_type": "code",
   "execution_count": 7,
   "metadata": {},
   "outputs": [
    {
     "name": "stderr",
     "output_type": "stream",
     "text": [
      "<ipython-input-7-0d51acaa9c36>:1: FutureWarning: Treating datetime data as categorical rather than numeric in `.describe` is deprecated and will be removed in a future version of pandas. Specify `datetime_is_numeric=True` to silence this warning and adopt the future behavior now.\n",
      "  data['DateSold'].describe()\n"
     ]
    },
    {
     "data": {
      "text/plain": [
       "count                   22513\n",
       "unique                   1695\n",
       "top       2005-02-13 00:00:00\n",
       "freq                       34\n",
       "first     2003-01-02 00:00:00\n",
       "last      2007-12-16 00:00:00\n",
       "Name: DateSold, dtype: object"
      ]
     },
     "execution_count": 7,
     "metadata": {},
     "output_type": "execute_result"
    }
   ],
   "source": [
    "data['DateSold'].describe()"
   ]
  },
  {
   "cell_type": "code",
   "execution_count": 8,
   "metadata": {},
   "outputs": [
    {
     "data": {
      "text/plain": [
       "<AxesSubplot:xlabel='DateSold', ylabel='Count'>"
      ]
     },
     "execution_count": 8,
     "metadata": {},
     "output_type": "execute_result"
    },
    {
     "data": {
      "image/png": "[encoded data removed]",
      "text/plain": [
       "<Figure size 2000x800 with 1 Axes>"
      ]
     },
     "metadata": {
      "needs_background": "light"
     },
     "output_type": "display_data"
    }
   ],
   "source": [
    "plt.figure(figsize=(10,4),dpi=200)\n",
    "sns.histplot(x='DateSold',data=data )"
   ]
  },
  {
   "cell_type": "code",
   "execution_count": null,
   "metadata": {},
   "outputs": [],
   "source": []
  }
 ],
 "metadata": {
  "kernelspec": {
   "display_name": "Python 3",
   "language": "python",
   "name": "python3"
  },
  "language_info": {
   "codemirror_mode": {
    "name": "ipython",
    "version": 3
   },
   "file_extension": ".py",
   "mimetype": "text/x-python",
   "name": "python",
   "nbconvert_exporter": "python",
   "pygments_lexer": "ipython3",
   "version": "3.8.8"
  }
 },
 "nbformat": 4,
 "nbformat_minor": 4
}
